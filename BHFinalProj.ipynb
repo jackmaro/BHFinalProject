{
  "nbformat": 4,
  "nbformat_minor": 0,
  "metadata": {
    "colab": {
      "provenance": [],
      "include_colab_link": true
    },
    "kernelspec": {
      "name": "python3",
      "display_name": "Python 3"
    },
    "language_info": {
      "name": "python"
    }
  },
  "cells": [
    {
      "cell_type": "markdown",
      "metadata": {
        "id": "view-in-github",
        "colab_type": "text"
      },
      "source": [
        "<a href=\"https://colab.research.google.com/github/jackmaro/BHFinalProject/blob/main/BHFinalProj.ipynb\" target=\"_parent\"><img src=\"https://colab.research.google.com/assets/colab-badge.svg\" alt=\"Open In Colab\"/></a>"
      ]
    },
    {
      "cell_type": "code",
      "execution_count": 1,
      "metadata": {
        "id": "xmwwlePLap6b"
      },
      "outputs": [],
      "source": [
        "import numpy as np\n",
        "import matplotlib.pyplot as plt\n",
        "import requests\n",
        "import math\n",
        "\n",
        "baseUrl = 'http://www.tng-project.org/api/'\n",
        "headers = {\"api-key\":\"128de4248c745e040927ee558a9bcd62\"} #this is my (Jack) API key btw\n",
        "\n",
        "def get(path, params=None):\n",
        "    # make HTTP GET request to path\n",
        "    r = requests.get(path, params=params, headers=headers)\n",
        "\n",
        "    # raise exception if response code is not HTTP SUCCESS (200)\n",
        "    r.raise_for_status()\n",
        "\n",
        "    if r.headers['content-type'] == 'application/json':\n",
        "        return r.json() # parse json responses automatically\n",
        "    return r\n",
        "\n",
        "r = get(baseUrl)\n",
        "r.keys()\n",
        "names = [sim['name'] for sim in r['simulations']]\n",
        "\n",
        "#defining the \"sim\" function for TNG100-1\n",
        "i = names.index('TNG300-1')\n",
        "sim = get( r['simulations'][i]['url'])\n",
        "\n"
      ]
    },
    {
      "cell_type": "code",
      "source": [
        "#defining redshift values we are testing, etc\n",
        "redshifts = [0, 0.5, 1, 1.5, 2, 2.5, 3, 3.5, 4, 4.5, 5, 5.5, 6]\n",
        "sfrData = []\n",
        "fractSubhalosUsed = 1.0"
      ],
      "metadata": {
        "id": "LVbfIIIybbG_"
      },
      "execution_count": 2,
      "outputs": []
    },
    {
      "cell_type": "code",
      "source": [],
      "metadata": {
        "id": "Uy75ODrmecQx"
      },
      "execution_count": null,
      "outputs": []
    },
    {
      "cell_type": "code",
      "source": [
        "snaps = get(sim['url'] + 'snapshots/')\n",
        "\n",
        "#Looping through all the snapshots to find the exact snapshots corresponding to the redshifts we're sampling\n",
        "l=0\n",
        "#redshifts with intervals of 0.5\n",
        "snapz_00 = 0\n",
        "snapz_05 = 0\n",
        "snapz_10 = 0\n",
        "snapz_15 = 0\n",
        "snapz_20 = 0\n",
        "snapz_25 = 0\n",
        "snapz_30 = 0\n",
        "snapz_35 = 0\n",
        "snapz_40 = 0\n",
        "snapz_45 = 0\n",
        "snapz_50 = 0\n",
        "snapz_55 = 0\n",
        "snapz_60 = 0\n",
        "\n",
        "\n",
        "\n",
        "#function for the ones in intervals of 0.5\n",
        "while l < len(snaps):\n",
        "  lval = float(\"{:.1f}\".format(snaps[l]['redshift']))\n",
        "  if lval == 0.0:\n",
        "    snapz_00 = l\n",
        "  elif lval == 0.5:\n",
        "    snapz_05 = l\n",
        "  elif lval == 1.0:\n",
        "    snapz_10 = l\n",
        "  elif lval == 1.5:\n",
        "    snapz_15 = l\n",
        "  elif lval == 2.0:\n",
        "    snapz_20 = l\n",
        "  #elif lval == 2.5:\n",
        "    #snapz_25 = l\n",
        "  elif lval == 3.0:\n",
        "    snapz_30 = l\n",
        "  elif lval == 3.5:\n",
        "    snapz_35 = l\n",
        "  elif lval == 4.0:\n",
        "    snapz_40 = l\n",
        "  #elif lval == 4.5:\n",
        "    #snapz_45 = l\n",
        "  elif lval == 5.0:\n",
        "    snapz_50 = l\n",
        "  elif lval == 5.5:\n",
        "    snapz_55 = l\n",
        "  elif lval == 6.0:\n",
        "    snapz_60 = l\n",
        "  l = l+1\n",
        "\n",
        "snapz_25 = 29\n",
        "snapz_45 = 19\n",
        "\n",
        "\n",
        "snapzlist = [snapz_00, snapz_05, snapz_10, snapz_15, snapz_20, snapz_25, snapz_30, snapz_35, snapz_40, snapz_45, snapz_50, snapz_55, snapz_60]"
      ],
      "metadata": {
        "id": "5bCSoiOQay3i"
      },
      "execution_count": 3,
      "outputs": []
    },
    {
      "cell_type": "code",
      "source": [
        "#parameters for the search\n",
        "params = {'limit': 100, 'order_by': '-mass_stars'}\n",
        "\n",
        "#this returns a list of subhalos for a given redshift (input value), for bulk data retrieval\n",
        "def subhalos(z):\n",
        "  x = int(2*z)\n",
        "  subhalos_url = snaps[snapzlist[x]]['url'] + 'subhalos/'\n",
        "  return get(subhalos_url, params)\n",
        "\n",
        "#function to pick a sample of subhalos using the above function, also for bulk data retrieval; fix\n",
        "def pickSampledSubs(z):\n",
        "  #subhalo_list = subhalos(z)['results']\n",
        "  #sampledSubs = np.random.choice(subhalo_list, size=int(len(subhalo_list)*fractSubhalosUsed), replace=False)\n",
        "  subhalo_list = subhalos(z)['results']\n",
        "  sampledSubs = subhalo_list\n",
        "  return sampledSubs"
      ],
      "metadata": {
        "id": "00IeRU0zbcDd"
      },
      "execution_count": 4,
      "outputs": []
    },
    {
      "cell_type": "code",
      "source": [
        "#function to find the subhalo arrays\n",
        "def findSFR(y): #input an array of subhalos (ie from pick sampled subs)\n",
        "  sfrs = []\n",
        "  i=0\n",
        "  for i in range(0,len(y)):\n",
        "    samplesubsfr = y[i]['sfr']\n",
        "    sfrs.append(samplesubsfr)\n",
        "    i=i+1\n",
        "  return sfrs"
      ],
      "metadata": {
        "id": "g-W1qZqlu5_r"
      },
      "execution_count": 5,
      "outputs": []
    },
    {
      "cell_type": "code",
      "source": [
        "#actually getting data:\n",
        "\n",
        "#sampling subhalos\n",
        "samplesubs_z00 = pickSampledSubs(0)\n",
        "samplesubs_z05 = pickSampledSubs(0.5)\n",
        "samplesubs_z10 = pickSampledSubs(1)\n",
        "samplesubs_z15 = pickSampledSubs(1.5)\n",
        "samplesubs_z20 = pickSampledSubs(2)\n",
        "samplesubs_z25 = pickSampledSubs(2.5)\n",
        "samplesubs_z30 = pickSampledSubs(3)\n",
        "samplesubs_z35 = pickSampledSubs(3.5)\n",
        "samplesubs_z40 = pickSampledSubs(4)\n",
        "samplesubs_z45 = pickSampledSubs(4.5)\n",
        "samplesubs_z50 = pickSampledSubs(5)\n",
        "samplesubs_z55 = pickSampledSubs(5.5)\n",
        "samplesubs_z60 = pickSampledSubs(6)\n",
        "\n",
        "\n",
        "#finding their sfr's\n",
        "sfr_z00 = findSFR(samplesubs_z00)\n",
        "sfr_z05 = findSFR(samplesubs_z05)\n",
        "sfr_z10 = findSFR(samplesubs_z10)\n",
        "sfr_z15 = findSFR(samplesubs_z15)\n",
        "sfr_z20 = findSFR(samplesubs_z20)\n",
        "sfr_z25 = findSFR(samplesubs_z25)\n",
        "sfr_z30 = findSFR(samplesubs_z30)\n",
        "sfr_z35 = findSFR(samplesubs_z35)\n",
        "sfr_z40 = findSFR(samplesubs_z40)\n",
        "sfr_z45 = findSFR(samplesubs_z45)\n",
        "sfr_z50 = findSFR(samplesubs_z50)\n",
        "sfr_z55 = findSFR(samplesubs_z55)\n",
        "sfr_z60 = findSFR(samplesubs_z60)\n",
        "\n",
        "#filtering out 0 from each sfr\n",
        "while 0 in sfr_z00:\n",
        "    sfr_z00.remove(0)\n",
        "while 0 in sfr_z05:\n",
        "      sfr_z05.remove(0)\n",
        "while 0 in sfr_z10:\n",
        "      sfr_z10.remove(0)\n",
        "while 0 in sfr_z15:\n",
        "      sfr_z15.remove(0)\n",
        "while 0 in sfr_z25:\n",
        "      sfr_z25.remove(0)\n",
        "while 0 in sfr_z30:\n",
        "      sfr_z30.remove(0)\n",
        "while 0 in sfr_z35:\n",
        "      sfr_z35.remove(0)\n",
        "while 0 in sfr_z40:\n",
        "      sfr_z40.remove(0)\n",
        "while 0 in sfr_z45:\n",
        "      sfr_z45.remove(0)\n",
        "while 0 in sfr_z50:\n",
        "      sfr_z50.remove(0)\n",
        "while 0 in sfr_z55:\n",
        "      sfr_z55.remove(0)\n",
        "while 0 in sfr_z60:\n",
        "      sfr_z60.remove(0)\n"
      ],
      "metadata": {
        "id": "yAZJjK_dzGox"
      },
      "execution_count": 6,
      "outputs": []
    },
    {
      "cell_type": "code",
      "source": [
        "#avg sfr for each redshift\n",
        "avg_sfr_z00 = sum(sfr_z00)/len(sfr_z00)\n",
        "avg_sfr_z05 = sum(sfr_z05)/len(sfr_z05)\n",
        "avg_sfr_z10 = sum(sfr_z10)/len(sfr_z10)\n",
        "avg_sfr_z15 = sum(sfr_z15)/len(sfr_z15)\n",
        "avg_sfr_z20 = sum(sfr_z20)/len(sfr_z20)\n",
        "avg_sfr_z25 = sum(sfr_z25)/len(sfr_z25)\n",
        "avg_sfr_z30 = sum(sfr_z30)/len(sfr_z30)\n",
        "avg_sfr_z35 = sum(sfr_z35)/len(sfr_z35)\n",
        "avg_sfr_z40 = sum(sfr_z40)/len(sfr_z40)\n",
        "avg_sfr_z45 = sum(sfr_z45)/len(sfr_z45)\n",
        "avg_sfr_z50 = sum(sfr_z50)/len(sfr_z50)\n",
        "avg_sfr_z55 = sum(sfr_z55)/len(sfr_z55)\n",
        "avg_sfr_z60 = sum(sfr_z60)/len(sfr_z60)\n",
        "\n",
        "#initializing numpy array containing sfr's; ie sfrData\n",
        "sfrData = np.array([avg_sfr_z00,avg_sfr_z05,avg_sfr_z10,avg_sfr_z15,avg_sfr_z20,avg_sfr_z25, avg_sfr_z30, avg_sfr_z35, avg_sfr_z40, avg_sfr_z45, avg_sfr_z50, avg_sfr_z55, avg_sfr_z60])\n"
      ],
      "metadata": {
        "id": "kWKkqRav1HFd"
      },
      "execution_count": 7,
      "outputs": []
    },
    {
      "cell_type": "code",
      "source": [
        "#plotting sfr vs redshift =)\n",
        "plt.figure(figsize=(10, 6))\n",
        "plt.plot(redshifts, sfrData, marker='o', linestyle='-', color='blue')\n",
        "plt.xlabel('Redshift (z)')\n",
        "plt.ylabel('Average Star Formation Rate')\n",
        "plt.title('Average Star Formation Rate vs Redshift (Sampled)')\n",
        "plt.grid(True)\n",
        "plt.show()"
      ],
      "metadata": {
        "colab": {
          "base_uri": "https://localhost:8080/",
          "height": 618
        },
        "id": "Yxov9nClyJt9",
        "outputId": "ea781e00-3869-4288-b152-d174c4f9e62c"
      },
      "execution_count": 8,
      "outputs": [
        {
          "output_type": "stream",
          "name": "stdout",
          "text": [
            "[  1.52014359   9.87995237  22.33768496  39.52347708  47.87859582\n",
            "  50.61050058 148.8778157  377.2304206  447.463555   379.389662\n",
            " 301.642236   224.451757   198.611095  ]\n"
          ]
        },
        {
          "output_type": "display_data",
          "data": {
            "text/plain": [
              "<Figure size 1000x600 with 1 Axes>"
            ],
            "image/png": "[encoded data removed]"
          },
          "metadata": {}
        }
      ]
    },
    {
      "cell_type": "code",
      "source": [
        "#merger stuff goes here !\n",
        "\n",
        "\n",
        "\n",
        "\n"
      ],
      "metadata": {
        "id": "j_UCDBqhUWVg"
      },
      "execution_count": null,
      "outputs": []
    },
    {
      "cell_type": "code",
      "source": [],
      "metadata": {
        "id": "qms466UJoygD"
      },
      "execution_count": null,
      "outputs": []
    }
  ]
}