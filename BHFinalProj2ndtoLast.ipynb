{
  "nbformat": 4,
  "nbformat_minor": 0,
  "metadata": {
    "colab": {
      "provenance": [],
      "include_colab_link": true
    },
    "kernelspec": {
      "name": "python3",
      "display_name": "Python 3"
    },
    "language_info": {
      "name": "python"
    }
  },
  "cells": [
    {
      "cell_type": "markdown",
      "metadata": {
        "id": "view-in-github",
        "colab_type": "text"
      },
      "source": [
        "<a href=\"https://colab.research.google.com/github/jackmaro/BHFinalProject/blob/main/BHFinalProj2ndtoLast.ipynb\" target=\"_parent\"><img src=\"https://colab.research.google.com/assets/colab-badge.svg\" alt=\"Open In Colab\"/></a>"
      ]
    },
    {
      "cell_type": "code",
      "execution_count": 9,
      "metadata": {
        "id": "xmwwlePLap6b"
      },
      "outputs": [],
      "source": [
        "import numpy as np\n",
        "import matplotlib.pyplot as plt\n",
        "import requests\n",
        "import math\n",
        "import h5py\n",
        "\n",
        "baseUrl = 'http://www.tng-project.org/api/'\n",
        "headers = {\"api-key\":\"128de4248c745e040927ee558a9bcd62\"} #this is my (Jack) API key btw\n",
        "\n",
        "def get(path, params=None):\n",
        "    # make HTTP GET request to path\n",
        "    r = requests.get(path, params=params, headers=headers)\n",
        "\n",
        "    # raise exception if response code is not HTTP SUCCESS (200)\n",
        "    r.raise_for_status()\n",
        "\n",
        "    if r.headers['content-type'] == 'application/json':\n",
        "        return r.json() # parse json responses automatically\n",
        "    return r\n",
        "\n",
        "r = get(baseUrl)\n",
        "r.keys()\n",
        "names = [sim['name'] for sim in r['simulations']]\n",
        "\n",
        "#defining the \"sim\" function for TNG100-1 alongside the \"snaps\" function\n",
        "i = names.index('TNG300-1')\n",
        "sim = get( r['simulations'][i]['url'])\n",
        "snaps = get(sim['url'] + 'snapshots/')"
      ]
    },
    {
      "cell_type": "code",
      "source": [
        "#defining redshift values we are testing, etc\n",
        "redshifts = [0, 0.5, 1, 1.5, 2, 2.5, 3, 3.5, 4, 4.5, 5, 5.5, 6]\n",
        "sfrData = []\n",
        "fractSubhalosUsed = 1.0"
      ],
      "metadata": {
        "id": "LVbfIIIybbG_"
      },
      "execution_count": 10,
      "outputs": []
    },
    {
      "cell_type": "code",
      "source": [
        "#Looping through all the snapshots to find the exact snapshots corresponding to the redshifts we're sampling\n",
        "l=0\n",
        "#redshifts with intervals of 0.5\n",
        "snapz_00 = 0\n",
        "snapz_05 = 0\n",
        "snapz_10 = 0\n",
        "snapz_15 = 0\n",
        "snapz_20 = 0\n",
        "snapz_25 = 0\n",
        "snapz_30 = 0\n",
        "snapz_35 = 0\n",
        "snapz_40 = 0\n",
        "snapz_45 = 0\n",
        "snapz_50 = 0\n",
        "snapz_55 = 0\n",
        "snapz_60 = 0\n",
        "\n",
        "\n",
        "#function for the ones in intervals of 0.5\n",
        "while l < len(snaps):\n",
        "  lval = float(\"{:.1f}\".format(snaps[l]['redshift']))\n",
        "  if lval == 0.0:\n",
        "    snapz_00 = l\n",
        "  elif lval == 0.5:\n",
        "    snapz_05 = l\n",
        "  elif lval == 1.0:\n",
        "    snapz_10 = l\n",
        "  elif lval == 1.5:\n",
        "    snapz_15 = l\n",
        "  elif lval == 2.0:\n",
        "    snapz_20 = l\n",
        "  #elif lval == 2.5:\n",
        "    #snapz_25 = l\n",
        "  elif lval == 3.0:\n",
        "    snapz_30 = l\n",
        "  elif lval == 3.5:\n",
        "    snapz_35 = l\n",
        "  elif lval == 4.0:\n",
        "    snapz_40 = l\n",
        "  #elif lval == 4.5:\n",
        "    #snapz_45 = l\n",
        "  elif lval == 5.0:\n",
        "    snapz_50 = l\n",
        "  elif lval == 5.5:\n",
        "    snapz_55 = l\n",
        "  elif lval == 6.0:\n",
        "    snapz_60 = l\n",
        "  l = l+1\n",
        "\n",
        "snapz_25 = 29\n",
        "snapz_45 = 19\n",
        "\n",
        "\n",
        "snapzlist = [snapz_00, snapz_05, snapz_10, snapz_15, snapz_20, snapz_25, snapz_30, snapz_35, snapz_40, snapz_45, snapz_50, snapz_55, snapz_60]"
      ],
      "metadata": {
        "id": "5bCSoiOQay3i"
      },
      "execution_count": 11,
      "outputs": []
    },
    {
      "cell_type": "code",
      "source": [
        "#parameters for the search\n",
        "params = {'limit': 100*fractSubhalosUsed, 'order_by': '-mass_stars'}\n",
        "\n",
        "#this returns a list of subhalos for a given redshift (input value), for bulk data retrieval\n",
        "def subhalos(z):\n",
        "  x = int(2*z)\n",
        "  subhalos_url = snaps[snapzlist[x]]['url'] + 'subhalos/'\n",
        "  return get(subhalos_url, params)\n",
        "\n",
        "#function to pick a sample of subhalos using the above function, also for bulk data retrieval; fix\n",
        "def pickSampledSubs(z):\n",
        "  #subhalo_list = subhalos(z)['results']\n",
        "  #sampledSubs = np.random.choice(subhalo_list, size=int(len(subhalo_list)*fractSubhalosUsed), replace=False)\n",
        "  subhalo_list = subhalos(z)['results']\n",
        "  sampledSubs = subhalo_list\n",
        "  return sampledSubs\n",
        "\n",
        "#function to fetch the ids of the queried subhalos\n",
        "def grabid(z):\n",
        "  subhaloids = []\n",
        "  subhalo_list = pickSampledSubs(z)\n",
        "  for i in range(len(subhalo_list)):\n",
        "    subhaloid = subhalo_list[i]['id']\n",
        "    subhaloids.append(subhaloid)\n",
        "  return subhaloids\n"
      ],
      "metadata": {
        "id": "00IeRU0zbcDd"
      },
      "execution_count": 12,
      "outputs": []
    },
    {
      "cell_type": "code",
      "source": [
        "#function to find the subhalo arrays\n",
        "def findSFR(y): #input an array of subhalos (ie from pick sampled subs)\n",
        "  sfrs = []\n",
        "  i=0\n",
        "  for i in range(0,len(y)):\n",
        "    samplesubsfr = y[i]['sfr']\n",
        "    sfrs.append(samplesubsfr)\n",
        "    i=i+1\n",
        "  return sfrs"
      ],
      "metadata": {
        "id": "g-W1qZqlu5_r"
      },
      "execution_count": 13,
      "outputs": []
    },
    {
      "cell_type": "code",
      "source": [
        "#actually getting data:\n",
        "\n",
        "#sampling subhalos\n",
        "samplesubs_z00 = pickSampledSubs(0)\n",
        "samplesubs_z05 = pickSampledSubs(0.5)\n",
        "samplesubs_z10 = pickSampledSubs(1)\n",
        "samplesubs_z15 = pickSampledSubs(1.5)\n",
        "samplesubs_z20 = pickSampledSubs(2)\n",
        "samplesubs_z25 = pickSampledSubs(2.5)\n",
        "samplesubs_z30 = pickSampledSubs(3)\n",
        "samplesubs_z35 = pickSampledSubs(3.5)\n",
        "samplesubs_z40 = pickSampledSubs(4)\n",
        "samplesubs_z45 = pickSampledSubs(4.5)\n",
        "samplesubs_z50 = pickSampledSubs(5)\n",
        "samplesubs_z55 = pickSampledSubs(5.5)\n",
        "samplesubs_z60 = pickSampledSubs(6)\n",
        "\n",
        "\n",
        "#finding their sfr's\n",
        "sfr_z00 = findSFR(samplesubs_z00)\n",
        "sfr_z05 = findSFR(samplesubs_z05)\n",
        "sfr_z10 = findSFR(samplesubs_z10)\n",
        "sfr_z15 = findSFR(samplesubs_z15)\n",
        "sfr_z20 = findSFR(samplesubs_z20)\n",
        "sfr_z25 = findSFR(samplesubs_z25)\n",
        "sfr_z30 = findSFR(samplesubs_z30)\n",
        "sfr_z35 = findSFR(samplesubs_z35)\n",
        "sfr_z40 = findSFR(samplesubs_z40)\n",
        "sfr_z45 = findSFR(samplesubs_z45)\n",
        "sfr_z50 = findSFR(samplesubs_z50)\n",
        "sfr_z55 = findSFR(samplesubs_z55)\n",
        "sfr_z60 = findSFR(samplesubs_z60)"
      ],
      "metadata": {
        "id": "yAZJjK_dzGox"
      },
      "execution_count": 14,
      "outputs": []
    },
    {
      "cell_type": "code",
      "source": [
        "\n",
        "#finding their id's as well for images/merger stuff\n",
        "id_z00 = grabid(0)\n",
        "id_z05 = grabid(0.5)\n",
        "id_z10 = grabid(1)\n",
        "id_z15 = grabid(1.5)\n",
        "id_z20 = grabid(2)\n",
        "id_z25 = grabid(2.5)\n",
        "id_z30 = grabid(3)\n",
        "id_z35 = grabid(3.5)\n",
        "id_z40 = grabid(4)\n",
        "id_z45 = grabid(4.5)\n",
        "id_z50 = grabid(5)\n",
        "id_z55 = grabid(5.5)\n",
        "id_z60 = grabid(6)\n",
        "\n",
        "\n",
        "\n",
        "#filtering out 0 from each sfr\n",
        "while 0 in sfr_z00:\n",
        "    index = sfr_z00.index(0)\n",
        "    sfr_z00.pop(index)\n",
        "    id_z00.pop(index)\n",
        "while 0 in sfr_z05:\n",
        "    index = sfr_z05.index(0)\n",
        "    sfr_z05.pop(index)\n",
        "    id_z05.pop(index)\n",
        "while 0 in sfr_z10:\n",
        "    index = sfr_z10.index(0)\n",
        "    sfr_z10.pop(index)\n",
        "    id_z10.pop(index)\n",
        "while 0 in sfr_z15:\n",
        "    index = sfr_z15.index(0)\n",
        "    sfr_z15.pop(index)\n",
        "    id_z15.pop(index)\n",
        "while 0 in sfr_z20:\n",
        "    index = sfr_z20.index(0)\n",
        "    sfr_z20.pop(index)\n",
        "    id_z20.pop(index)\n",
        "while 0 in sfr_z25:\n",
        "    index = sfr_z25.index(0)\n",
        "    sfr_z25.pop(index)\n",
        "    id_z25.pop(index)\n",
        "while 0 in sfr_z30:\n",
        "    index = sfr_z30.index(0)\n",
        "    sfr_z30.pop(index)\n",
        "    id_z30.pop(index)\n",
        "while 0 in sfr_z35:\n",
        "    index = sfr_z35.index(0)\n",
        "    sfr_z35.pop(index)\n",
        "    id_z35.pop(index)\n",
        "while 0 in sfr_z40:\n",
        "    index = sfr_z40.index(0)\n",
        "    sfr_z40.pop(index)\n",
        "    id_z40.pop(index)\n",
        "while 0 in sfr_z45:\n",
        "    index = sfr_z45.index(0)\n",
        "    sfr_z45.pop(index)\n",
        "    id_z45.pop(index)\n",
        "while 0 in sfr_z50:\n",
        "    index = sfr_z50.index(0)\n",
        "    sfr_z50.pop(index)\n",
        "    id_z50.pop(index)\n",
        "while 0 in sfr_z55:\n",
        "    index = sfr_z55.index(0)\n",
        "    sfr_z55.pop(index)\n",
        "    id_z55.pop(index)\n",
        "while 0 in sfr_z60:\n",
        "    index = sfr_z60.index(0)\n",
        "    sfr_z60.pop(index)\n",
        "    id_z60.pop(index)\n",
        "\n"
      ],
      "metadata": {
        "id": "rVu8HedbwC1f"
      },
      "execution_count": 15,
      "outputs": []
    },
    {
      "cell_type": "code",
      "source": [
        "#avg sfr for each redshift\n",
        "avg_sfr_z00 = sum(sfr_z00)/len(sfr_z00)\n",
        "avg_sfr_z05 = sum(sfr_z05)/len(sfr_z05)\n",
        "avg_sfr_z10 = sum(sfr_z10)/len(sfr_z10)\n",
        "avg_sfr_z15 = sum(sfr_z15)/len(sfr_z15)\n",
        "avg_sfr_z20 = sum(sfr_z20)/len(sfr_z20)\n",
        "avg_sfr_z25 = sum(sfr_z25)/len(sfr_z25)\n",
        "avg_sfr_z30 = sum(sfr_z30)/len(sfr_z30)\n",
        "avg_sfr_z35 = sum(sfr_z35)/len(sfr_z35)\n",
        "avg_sfr_z40 = sum(sfr_z40)/len(sfr_z40)\n",
        "avg_sfr_z45 = sum(sfr_z45)/len(sfr_z45)\n",
        "avg_sfr_z50 = sum(sfr_z50)/len(sfr_z50)\n",
        "avg_sfr_z55 = sum(sfr_z55)/len(sfr_z55)\n",
        "avg_sfr_z60 = sum(sfr_z60)/len(sfr_z60)\n",
        "\n",
        "#initializing numpy array containing sfr's; ie sfrData\n",
        "sfrData = np.array([avg_sfr_z00,avg_sfr_z05,avg_sfr_z10,avg_sfr_z15,avg_sfr_z20,avg_sfr_z25, avg_sfr_z30, avg_sfr_z35, avg_sfr_z40, avg_sfr_z45, avg_sfr_z50, avg_sfr_z55, avg_sfr_z60])\n",
        "idNumbs = [id_z00, id_z05, id_z10, id_z15, id_z20, id_z25, id_z30, id_z35, id_z40, id_z45, id_z50, id_z55, id_z60]\n"
      ],
      "metadata": {
        "id": "kWKkqRav1HFd",
        "outputId": "3b8558d1-7e0a-4c65-9214-e0ebb84964e6",
        "colab": {
          "base_uri": "https://localhost:8080/"
        }
      },
      "execution_count": 16,
      "outputs": [
        {
          "output_type": "stream",
          "name": "stdout",
          "text": [
            "1.5201435863636366\n"
          ]
        }
      ]
    },
    {
      "cell_type": "code",
      "source": [
        "#plotting sfr vs redshift =)\n",
        "from matplotlib import rcParams\n",
        "plt.style.use('seaborn-v0_8-darkgrid')\n",
        "rcParams['font.family'] = 'serif'\n",
        "rcParams['font.size'] = 12\n",
        "rcParams['figure.figsize'] = (12, 10)\n",
        "#\n",
        "\n",
        "plt.figure(figsize=(10, 6))\n",
        "plt.plot(redshifts, sfrData, marker='o', linestyle='-', color='blue')\n",
        "plt.xlabel('Redshift (z)')\n",
        "plt.ylabel('Average Star Formation Rate')\n",
        "plt.title('Average Star Formation Rate vs Redshift')\n",
        "plt.grid(True)\n",
        "plt.show()"
      ],
      "metadata": {
        "colab": {
          "base_uri": "https://localhost:8080/",
          "height": 566
        },
        "id": "Yxov9nClyJt9",
        "outputId": "b95f2c07-32ff-4632-f14b-ad573b3152fa"
      },
      "execution_count": 18,
      "outputs": [
        {
          "output_type": "display_data",
          "data": {
            "text/plain": [
              "<Figure size 1000x600 with 1 Axes>"
            ],
            "image/png": "[encoded data removed]"
          },
          "metadata": {}
        }
      ]
    },
    {
      "source": [
        "#merger stuff starts here; UPDATE: MOVED TO UZI'S FILE; DISREGARD\n",
        "'''\n",
        "def get_data(path, params=None):\n",
        "    # make HTTP GET request to path\n",
        "    r2 = requests.get(path, params=params, headers=headers)\n",
        "\n",
        "    # raise exception if response code is not HTTP SUCCESS (200)\n",
        "    r2.raise_for_status()\n",
        "\n",
        "    if r2.headers['content-type'] == 'application/json':\n",
        "        return r2.json() # parse json responses automatically\n",
        "\n",
        "    # Change 'r.headers' to 'r2.headers'\n",
        "    if 'content-disposition' in r2.headers:\n",
        "        filename = r2.headers['content-disposition'].split(\"filename=\")[1]\n",
        "        with open(filename, 'wb') as f:\n",
        "            f.write(r2.content)\n",
        "        return filename # return the filename string\n",
        "\n",
        "    return r2\n",
        "'''\n"
      ],
      "cell_type": "code",
      "metadata": {
        "id": "8eABMo3-21Sn"
      },
      "execution_count": null,
      "outputs": []
    },
    {
      "cell_type": "code",
      "source": [
        "'''\n",
        "sim2 = 'TNG100-1'\n",
        "hubble = sim['hubble']\n",
        "\n",
        "\n",
        "#this code is good but we need to vary the thingies\n",
        "\n",
        "sub_url = \"http://www.tng-project.org/api/%s/snapshots/%d/subhalos/%d/\"%(sim2, snap_num, subid)\n",
        "\n",
        "# Here I'm querying the particle ID and masses of blackholes in this subhalo\n",
        "cutout_request = {'bhs':'ParticleIDs,Masses'}\n",
        "cutout = get_data(sub_url+\"cutout.hdf5\", cutout_request)\n",
        "\n",
        "with h5py.File(cutout,'r') as f:\n",
        "    bhids = f['PartType5']['ParticleIDs'][:]\n",
        "    bhmasses = f['PartType5']['Masses'][:] * 1e10/hubble\n",
        "\n",
        "def search_mergers(mergers, bhid):\n",
        "    mask = mergers['id1'] == bhid\n",
        "    mask |= mergers['id2'] == bhid\n",
        "    return mergers[mask]\n",
        "\n",
        "#fetching merger file from google drive; THE FILE MUST BE DOWNLOADED AND IN YOUR DRIVE WITH THE NAME \"TNG100_mergers_withID.npy\" FOR THE FOLLOWING TO WORK (-jack)\n",
        "from google.colab import drive\n",
        "drive.mount('/content/drive')\n",
        "\n",
        "data_dir = '/content/drive/MyDrive/'\n",
        "tng100_mergers = np.load(data_dir + 'TNG100_mergers_withID.npy')\n",
        "'''"
      ],
      "metadata": {
        "id": "pHnSlIiB13Zh",
        "outputId": "72145688-fe28-4e2b-b995-cb0f3aceb6d2",
        "colab": {
          "base_uri": "https://localhost:8080/"
        }
      },
      "execution_count": null,
      "outputs": [
        {
          "output_type": "stream",
          "name": "stdout",
          "text": [
            "Drive already mounted at /content/drive; to attempt to forcibly remount, call drive.mount(\"/content/drive\", force_remount=True).\n"
          ]
        }
      ]
    },
    {
      "cell_type": "code",
      "source": [],
      "metadata": {
        "id": "u-Vjm8JJJ64e"
      },
      "execution_count": null,
      "outputs": []
    }
  ]
}